{
 "cells": [
  {
   "cell_type": "code",
   "execution_count": 1,
   "id": "45c06e86",
   "metadata": {},
   "outputs": [
    {
     "ename": "ModuleNotFoundError",
     "evalue": "No module named 'Ipython'",
     "output_type": "error",
     "traceback": [
      "\u001b[1;31m---------------------------------------------------------------------------\u001b[0m",
      "\u001b[1;31mModuleNotFoundError\u001b[0m                       Traceback (most recent call last)",
      "\u001b[1;32m<ipython-input-1-f28b4958b292>\u001b[0m in \u001b[0;36m<module>\u001b[1;34m\u001b[0m\n\u001b[0;32m      3\u001b[0m \u001b[1;32mimport\u001b[0m \u001b[0mnumpy\u001b[0m \u001b[1;32mas\u001b[0m \u001b[0mnp\u001b[0m\u001b[1;33m\u001b[0m\u001b[1;33m\u001b[0m\u001b[0m\n\u001b[0;32m      4\u001b[0m \u001b[1;32mimport\u001b[0m \u001b[0mtime\u001b[0m\u001b[1;33m\u001b[0m\u001b[1;33m\u001b[0m\u001b[0m\n\u001b[1;32m----> 5\u001b[1;33m \u001b[1;32mfrom\u001b[0m \u001b[0mIpython\u001b[0m\u001b[1;33m.\u001b[0m\u001b[0mdisplay\u001b[0m \u001b[1;32mimport\u001b[0m \u001b[0mImage\u001b[0m\u001b[1;33m\u001b[0m\u001b[1;33m\u001b[0m\u001b[0m\n\u001b[0m",
      "\u001b[1;31mModuleNotFoundError\u001b[0m: No module named 'Ipython'"
     ]
    }
   ],
   "source": [
    "#import libraies \n",
    "import cv2 \n",
    "import numpy as np \n",
    "import time \n",
    "from Ipython.display import Image "
   ]
  },
  {
   "cell_type": "code",
   "execution_count": null,
   "id": "8bab21d6",
   "metadata": {},
   "outputs": [],
   "source": [
    "#load the first image \n",
    "img=cv2.imread(\"potrait.jpg\")\n",
    "display(Image(filename=\"potrait.jpg\"))"
   ]
  },
  {
   "cell_type": "code",
   "execution_count": null,
   "id": "37e900b7",
   "metadata": {},
   "outputs": [],
   "source": [
    "#load the background image and resize\n",
    "bg=cv2.imread(\"background.jpg\")\n",
    "h,w,c=img.shape\n",
    "bg=cv2.resize(bg,(w,h))\n",
    "display(Image(filename=\"background.jpg\"))"
   ]
  },
  {
   "cell_type": "code",
   "execution_count": null,
   "id": "f5e4aef7",
   "metadata": {},
   "outputs": [],
   "source": [
    "#convert to hsv model \n",
    "hsv=cv2.cvtColor(img,cv2.COLOR_BGR2HSV)"
   ]
  },
  {
   "cell_type": "code",
   "execution_count": null,
   "id": "82ffd2fc",
   "metadata": {},
   "outputs": [],
   "source": [
    "#create the green mask \n",
    "lower_green=np.array([45,50,50])\n",
    "upper_green=np.array([79,255,255])\n",
    "mask_green=cv2.inRange(hsv,lower_green,upper_green)"
   ]
  },
  {
   "cell_type": "code",
   "execution_count": null,
   "id": "d5d61f9b",
   "metadata": {},
   "outputs": [],
   "source": [
    "#remove background \n",
    "otp_img_green=img.copy()\n",
    "opt_img_green[np.where(mask_green==255)]=0\n",
    "cv2.imwrite(\"bgremoved.jpg\",opt_img_green)\n",
    "display(Image(filename=\"bgremoved.jpg\"))"
   ]
  },
  {
   "cell_type": "code",
   "execution_count": null,
   "id": "fd94e5b4",
   "metadata": {},
   "outputs": [],
   "source": [
    "#remove image area from background\n"
   ]
  },
  {
   "cell_type": "code",
   "execution_count": null,
   "id": "d9c58875",
   "metadata": {},
   "outputs": [],
   "source": []
  },
  {
   "cell_type": "code",
   "execution_count": null,
   "id": "525be63d",
   "metadata": {},
   "outputs": [],
   "source": []
  },
  {
   "cell_type": "code",
   "execution_count": null,
   "id": "0ca102f7",
   "metadata": {},
   "outputs": [],
   "source": []
  },
  {
   "cell_type": "code",
   "execution_count": null,
   "id": "eb46b1cd",
   "metadata": {},
   "outputs": [],
   "source": []
  }
 ],
 "metadata": {
  "kernelspec": {
   "display_name": "Python 3",
   "language": "python",
   "name": "python3"
  },
  "language_info": {
   "codemirror_mode": {
    "name": "ipython",
    "version": 3
   },
   "file_extension": ".py",
   "mimetype": "text/x-python",
   "name": "python",
   "nbconvert_exporter": "python",
   "pygments_lexer": "ipython3",
   "version": "3.9.1"
  }
 },
 "nbformat": 4,
 "nbformat_minor": 5
}

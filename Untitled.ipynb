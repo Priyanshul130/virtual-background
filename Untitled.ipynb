{
 "cells": [
  {
   "cell_type": "code",
   "execution_count": null,
   "id": "abdf71fc-5fb8-46e2-a8bb-49ebfe74b8f0",
   "metadata": {},
   "outputs": [],
   "source": [
    "pip install -U jupyter"
   ]
  },
  {
   "cell_type": "code",
   "execution_count": null,
   "id": "58a61b44-b57f-4420-ae60-654d05ec569d",
   "metadata": {},
   "outputs": [],
   "source": [
    "jupyter notebook --version\n"
   ]
  },
  {
   "cell_type": "code",
   "execution_count": null,
   "id": "556f0fe4-294c-4f76-9d8c-c8d54932fb74",
   "metadata": {},
   "outputs": [],
   "source": []
  }
 ],
 "metadata": {
  "kernelspec": {
   "display_name": "Python 3",
   "language": "python",
   "name": "python3"
  },
  "language_info": {
   "codemirror_mode": {
    "name": "ipython",
    "version": 3
   },
   "file_extension": ".py",
   "mimetype": "text/x-python",
   "name": "python",
   "nbconvert_exporter": "python",
   "pygments_lexer": "ipython3",
   "version": "3.9.1"
  }
 },
 "nbformat": 4,
 "nbformat_minor": 5
}
